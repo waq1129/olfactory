{
 "cells": [
  {
   "cell_type": "code",
   "execution_count": 1,
   "metadata": {},
   "outputs": [
    {
     "name": "stdout",
     "output_type": "stream",
     "text": [
      "WARNING:tensorflow:From /Users/yzhao301/opt/anaconda3/envs/olfactory/lib/python3.6/site-packages/tensorflow/contrib/learn/python/learn/datasets/base.py:198: retry (from tensorflow.contrib.learn.python.learn.datasets.base) is deprecated and will be removed in a future version.\n",
      "Instructions for updating:\n",
      "Use the retry module or similar alternatives.\n"
     ]
    }
   ],
   "source": [
    "from olfactory_import import *\n",
    "from olfactory_util import *\n",
    "from olfactory_model import *"
   ]
  },
  {
   "cell_type": "code",
   "execution_count": 2,
   "metadata": {},
   "outputs": [],
   "source": [
    "odor_te = [0] # which odor is used for test\n",
    "model_flag = 1 # 1-8, correspond to different noise structures\n",
    "kernel_flag = 'mixture' # linear,rbf,mixture to formulate latent kernel\n",
    "trial_flag = 0 # 0: trial-average, 1: multi-trial\n",
    "R = 2 # rank of the noise matrix\n",
    "dname = 'syn_2d.mat'\n",
    "\n",
    "K = 2 # latent dimensionality\n",
    "n_flag = 4 # 1-4, initialization for noise \n",
    "n_iter = 2000\n",
    "n_print = 500\n",
    "n_iter_test = 1000\n",
    "n_print_test = 500\n",
    "n_samples = 1"
   ]
  },
  {
   "cell_type": "code",
   "execution_count": 3,
   "metadata": {},
   "outputs": [
    {
     "name": "stdout",
     "output_type": "stream",
     "text": [
      "(10, 20, 50)\n",
      "trials: 10   neurons: 50   training odors: 19   test odors: 1\n"
     ]
    }
   ],
   "source": [
    "# load data\n",
    "syn_data = scipy.io.loadmat(dname)\n",
    "x_true0 = syn_data['x_true0'] # mean firing rate\n",
    "x_true = syn_data['x_true'] # observed firing rate\n",
    "xgrid = syn_data['xgrid']\n",
    "z_true = syn_data['z_true']\n",
    "zgrid = syn_data['zgrid']\n",
    "tgrid = syn_data['tgrid']\n",
    "Kz_true = syn_data['Kz']\n",
    "Sigma_odor = syn_data['Sigma_odor']\n",
    "Sigma_neuron = syn_data['Sigma_neuron']\n",
    "so0 = syn_data['so'].flatten()\n",
    "sn0 = syn_data['sn'].flatten()\n",
    "T = syn_data['T'][0][0]\n",
    "N = syn_data['N'][0][0]\n",
    "D = syn_data['D'][0][0]\n",
    "\n",
    "# re-arrange data into the needed formats \n",
    "x_true = x_true.reshape(T,N,D)\n",
    "print(x_true.shape)\n",
    "\n",
    "odor_num = np.arange(x_true.shape[1])\n",
    "odor_tr = np.delete(odor_num, odor_te)\n",
    "\n",
    "# split training and test sets along odor dimension\n",
    "x_true_train, x_true_test = \\\n",
    "x_true[:,odor_tr,:],x_true[:,odor_te,:]\n",
    "\n",
    "T = x_true_train.shape[0]\n",
    "N_tr = x_true_train.shape[1]\n",
    "N_te = x_true_test.shape[1]\n",
    "D = x_true_train.shape[2]\n",
    "print('trials:', T, '  neurons:', D, '  training odors:', N_tr, '  test odors:', N_te)\n",
    "\n",
    "x_true_avg_train = np.mean(x_true_train,0).reshape(N_tr,D) # trial-average\n",
    "x_true_avg_test = np.mean(x_true_test,0).reshape(N_te,D) # trial-average\n",
    "x_true_trial_train = np.reshape(x_true_train,(T,-1)) \n",
    "x_true_trial_test = np.reshape(x_true_test,(T,-1)) "
   ]
  },
  {
   "cell_type": "code",
   "execution_count": 4,
   "metadata": {},
   "outputs": [
    {
     "name": "stdout",
     "output_type": "stream",
     "text": [
      "D_va: 45   D_te: 5\n",
      "(20, 45)\n",
      "(10, 45, 1)\n",
      "(10, 5, 1)\n",
      "(10, 45, 19)\n",
      "(10, 5, 19)\n",
      "(10, 900)\n",
      "Number of training points N_tr=19\n",
      "Number of test points N_te=1\n",
      "Number of features D=50\n",
      "Number of latent dimensions K=2\n",
      "Number of trials T=10\n"
     ]
    }
   ],
   "source": [
    "# split test set into test_val and test_test along neuron dimension for co-smoothing\n",
    "neuron_va = list(range(0,45))\n",
    "neuron_te = list(range(45,D))\n",
    "\n",
    "x_true_avg_test_va = x_true_avg_test[:,neuron_va]\n",
    "x_true_avg_test_te = x_true_avg_test[:,neuron_te]\n",
    "D_va = x_true_avg_test_va.shape[1]\n",
    "D_te = x_true_avg_test_te.shape[1]\n",
    "print('D_va:', D_va, '  D_te:', D_te)\n",
    "\n",
    "x_true_avg_va = np.vstack((x_true_avg_train[:,neuron_va],x_true_avg_test_va))\n",
    "\n",
    "x_true_trial_test_va = x_true_trial_test.reshape(T,N_te,D)[:,:,neuron_va].swapaxes(1,2)\n",
    "x_true_trial_test_te = x_true_trial_test.reshape(T,N_te,D)[:,:,neuron_te].swapaxes(1,2)\n",
    "x_true_trial_train_va = x_true_trial_train.reshape(T,N_tr,D)[:,:,neuron_va].swapaxes(1,2)\n",
    "x_true_trial_train_te = x_true_trial_train.reshape(T,N_tr,D)[:,:,neuron_te].swapaxes(1,2)\n",
    "x_true_trial_va = np.dstack((x_true_trial_train_va,x_true_trial_test_va)).swapaxes(1,2).reshape(T,-1)\n",
    "\n",
    "print(x_true_avg_va.shape)\n",
    "print(x_true_trial_test_va.shape)\n",
    "print(x_true_trial_test_te.shape)\n",
    "print(x_true_trial_train_va.shape)\n",
    "print(x_true_trial_train_te.shape)\n",
    "print(x_true_trial_va.shape)\n",
    "\n",
    "print(\"Number of training points N_tr={}\".format(N_tr))\n",
    "print(\"Number of test points N_te={}\".format(N_te))\n",
    "print(\"Number of features D={}\".format(D))\n",
    "print(\"Number of latent dimensions K={}\".format(K))\n",
    "print(\"Number of trials T={}\".format(T))"
   ]
  },
  {
   "cell_type": "code",
   "execution_count": 5,
   "metadata": {},
   "outputs": [
    {
     "name": "stdout",
     "output_type": "stream",
     "text": [
      "z_init_tr  (19, 2)\n",
      "z_init_va  (1, 2)\n",
      "z_init  (20, 2)\n"
     ]
    }
   ],
   "source": [
    "# initialization for z\n",
    "z_init_tr = x_true_avg_train[:,:K]\n",
    "z_init_va = np.ones((N_te,K))\n",
    "print('z_init_tr ',z_init_tr.shape)\n",
    "print('z_init_va ',z_init_va.shape)\n",
    "z_init = np.vstack((z_init_tr,z_init_va))\n",
    "print('z_init ',z_init.shape)"
   ]
  },
  {
   "cell_type": "code",
   "execution_count": 6,
   "metadata": {},
   "outputs": [
    {
     "name": "stdout",
     "output_type": "stream",
     "text": [
      "(19, 19)\n"
     ]
    }
   ],
   "source": [
    "# hyperparameter initialization for prior kernel for latent z\n",
    "sig_f_w = tf.nn.softplus(var(softplus_inv(1)*1))\n",
    "F = 1 # dimensionality of the lengthscale for the prior kernel, 1 or N_tr\n",
    "l_w = tf.nn.softplus(var(softplus_inv(np.ones(F)*10)))\n",
    "sig_n_w = tf.nn.softplus(var(softplus_inv(np.ones(N_tr)*1)))\n",
    "K_w = tf.diag(sig_n_w)\n",
    "print(K_w.shape)\n",
    "\n",
    "# hyperparameter initialization for latent kernel for mean firing rate\n",
    "coeff_linear = tf.nn.softplus(var(softplus_inv(1)))\n",
    "coeff_rbf = tf.nn.softplus(var(softplus_inv(1)))\n",
    "sig_f_z = tf.nn.softplus(var(softplus_inv(1)*1))\n",
    "l_z = tf.nn.softplus(var(softplus_inv(np.ones(K)*1)))\n",
    "l_z1 = tf.nn.softplus(var(softplus_inv(np.ones(1)*10)))\n"
   ]
  },
  {
   "cell_type": "code",
   "execution_count": 7,
   "metadata": {},
   "outputs": [
    {
     "name": "stdout",
     "output_type": "stream",
     "text": [
      "sn: (50,)   so: (19,)   B_n: (50, 50)   B_o: (19, 19)\n"
     ]
    }
   ],
   "source": [
    "# initialize noise across neurons and odors for observed firing rates\n",
    "# four possible initializations\n",
    "if n_flag==1: \n",
    "    # sig_n_z and sig_o_z are initialized randomly, \n",
    "    # B_n and B_o are initialized from data variance using pca\n",
    "    sn = np.random.randn(D)\n",
    "    so = np.random.randn(N_tr)\n",
    "    sig_n_z = tf.nn.softplus(var(softplus_inv(np.abs(sn*1e-2))))\n",
    "    sig_o_z = tf.nn.softplus(var(softplus_inv(np.abs(so*1e-2))))\n",
    "    var_n = np.var(x_true_trial_train,axis=0).reshape(N_tr,D)\n",
    "    pca = PCA(n_components=R)\n",
    "    Bn = var(pca.fit_transform(var_n.T))\n",
    "    Bo = var(pca.fit_transform(var_n))\n",
    "    l_B_n = tf.nn.softplus(var(softplus_inv(np.ones(R)*1e-2)))\n",
    "    B_n = tf.matmul(Bn,tf.matmul(tf.diag(l_B_n),tf.transpose(Bn)))+tf.diag(sig_n_z)\n",
    "    l_B_o = tf.nn.softplus(var(softplus_inv(np.ones(R)*1e-2)))\n",
    "    B_o = tf.matmul(Bo,tf.matmul(tf.diag(l_B_o),tf.transpose(Bo)))+tf.diag(sig_o_z)\n",
    "elif n_flag==2: \n",
    "    # sig_n_z and sig_o_z are initialized from data variance, \n",
    "    # B_n and B_o are initialized from data variance using pca\n",
    "    vv = np.var(x_true_trial_train,axis=0)\n",
    "    u,s,vh = np.linalg.svd(vv.reshape(N_tr,D))\n",
    "    so = u[:,0]*np.sqrt(s[0])\n",
    "    sn = vh[0,:]*np.sqrt(s[0])\n",
    "    sig_n_z = tf.nn.softplus(var(softplus_inv(np.abs(sn*1e-2))))\n",
    "    sig_o_z = tf.nn.softplus(var(softplus_inv(np.abs(so*1e-2))))\n",
    "    var_n = np.var(x_true_trial_train,axis=0).reshape(N_tr,D)\n",
    "    pca = PCA(n_components=R)\n",
    "    Bn = var(pca.fit_transform(var_n.T))\n",
    "    Bo = var(pca.fit_transform(var_n))\n",
    "    l_B_n = tf.nn.softplus(var(softplus_inv(np.ones(R)*1e-2)))\n",
    "    B_n = tf.matmul(Bn,tf.matmul(tf.diag(l_B_n),tf.transpose(Bn)))+tf.diag(sig_n_z)\n",
    "    l_B_o = tf.nn.softplus(var(softplus_inv(np.ones(R)*1e-2)))\n",
    "    B_o = tf.matmul(Bo,tf.matmul(tf.diag(l_B_o),tf.transpose(Bo)))+tf.diag(sig_o_z)\n",
    "elif n_flag==3:\n",
    "    # sig_n_z and sig_o_z are initialized randomly, \n",
    "    # B_n and B_o are initialized from data variance by calculating empirical cov\n",
    "    sn = np.random.randn(D)\n",
    "    so = np.random.randn(N_tr)\n",
    "    sig_n_z = tf.nn.softplus(var(softplus_inv(np.abs(sn*1e-2))))\n",
    "    sig_o_z = tf.nn.softplus(var(softplus_inv(np.abs(so*1e-2))))\n",
    "    mm = np.mean(x_true_trial_train.T,1)\n",
    "    xx1 = (x_true_trial_train-mm).T\n",
    "    pp = np.zeros((D,D))\n",
    "    qq = np.zeros((N_tr,N_tr))\n",
    "    for ii in range(N_tr):\n",
    "        for jj in range(N_tr):\n",
    "            cci = np.dot(xx1[ii*D:(ii+1)*D,:], xx1[jj*D:(jj+1)*D,:].T)/(T-1)\n",
    "            pp = pp+cci/N_tr/N_tr\n",
    "            qq[ii,jj] = np.mean(cci)*D\n",
    "    u,s,v = np.linalg.svd(pp)\n",
    "    ppL = np.dot(u[:,:R], np.diag(np.sqrt(s[:R])))\n",
    "    u,s,v = np.linalg.svd(qq)\n",
    "    qqL = np.dot(u[:,:R], np.diag(np.sqrt(s[:R])))\n",
    "    Bn = var(ppL)\n",
    "    Bo = var(qqL)\n",
    "    l_B_n = tf.nn.softplus(var(softplus_inv(np.ones(R)*1e-2)))\n",
    "    B_n = tf.matmul(Bn,tf.matmul(tf.diag(l_B_n),tf.transpose(Bn)))+tf.diag(sig_n_z)\n",
    "    l_B_o = tf.nn.softplus(var(softplus_inv(np.ones(R)*1e-2)))\n",
    "    B_o = tf.matmul(Bo,tf.matmul(tf.diag(l_B_o),tf.transpose(Bo)))+tf.diag(sig_o_z)\n",
    "elif n_flag==4:\n",
    "    # sig_n_z and sig_o_z are initialized from data variance, \n",
    "    # B_n and B_o are initialized from data variance by calculating empirical cov\n",
    "    vv = np.var(x_true_trial_train,axis=0)\n",
    "    u,s,vh = np.linalg.svd(vv.reshape(N_tr,D))\n",
    "    so = u[:,0]*np.sqrt(s[0])\n",
    "    sn = vh[0,:]*np.sqrt(s[0])\n",
    "    sig_n_z = tf.nn.softplus(var(softplus_inv(np.abs(sn*1e-2))))\n",
    "    sig_o_z = tf.nn.softplus(var(softplus_inv(np.abs(so*1e-2))))\n",
    "    mm = np.mean(x_true_trial_train.T,1)\n",
    "    xx1 = (x_true_trial_train-mm).T\n",
    "    pp = np.zeros((D,D))\n",
    "    qq = np.zeros((N_tr,N_tr))\n",
    "    for ii in range(N_tr):\n",
    "        for jj in range(N_tr):\n",
    "            cci = np.dot(xx1[ii*D:(ii+1)*D,:], xx1[jj*D:(jj+1)*D,:].T)/(T-1)\n",
    "            pp = pp+cci/N_tr/N_tr\n",
    "            qq[ii,jj] = np.mean(cci)*D\n",
    "    u,s,v = np.linalg.svd(pp)\n",
    "    ppL = np.dot(u[:,:R], np.diag(np.sqrt(s[:R])))\n",
    "    u,s,v = np.linalg.svd(qq)\n",
    "    qqL = np.dot(u[:,:R], np.diag(np.sqrt(s[:R])))\n",
    "    Bn = var(ppL)\n",
    "    Bo = var(qqL)\n",
    "    l_B_n = tf.nn.softplus(var(softplus_inv(np.ones(R)*1e-2)))\n",
    "    B_n = tf.matmul(Bn,tf.matmul(tf.diag(l_B_n),tf.transpose(Bn)))+tf.diag(sig_n_z)\n",
    "    l_B_o = tf.nn.softplus(var(softplus_inv(np.ones(R)*1e-2)))\n",
    "    B_o = tf.matmul(Bo,tf.matmul(tf.diag(l_B_o),tf.transpose(Bo)))+tf.diag(sig_o_z)\n",
    "\n",
    "print('sn:', sn.shape, '  so:', so.shape, '  B_n:', B_n.shape, '  B_o:', B_o.shape)"
   ]
  },
  {
   "cell_type": "markdown",
   "metadata": {},
   "source": [
    "Next we overwrite initialization and structure for sig_n_z, sig_o_z, B_n, and B_o given different model assumptions. The model index 1-8 correspond to the following structures.\n",
    "<img src=\"noise_structure.png\" width=\"400\" height=\"200\">"
   ]
  },
  {
   "cell_type": "code",
   "execution_count": 8,
   "metadata": {},
   "outputs": [],
   "source": [
    "# overwrite initialization and structure for sig_n_z, sig_o_z, B_n, and B_o given different model assumptions\n",
    "if model_flag==1:\n",
    "    sig_n_z = tf.ones(D)\n",
    "    B_n = tf.diag(sig_n_z)\n",
    "    B_o = tf.diag(sig_o_z)\n",
    "if model_flag==2:\n",
    "    sig_o_z = tf.ones(N_tr)\n",
    "    B_n = tf.diag(sig_n_z)\n",
    "    B_o = tf.diag(sig_o_z)\n",
    "if model_flag==3:\n",
    "    B_n = tf.diag(sig_n_z)\n",
    "    B_o = tf.diag(sig_o_z)\n",
    "if model_flag==4:\n",
    "    B_o = tf.diag(sig_o_z)\n",
    "if model_flag==5:\n",
    "    B_n = tf.diag(sig_n_z)\n",
    "if model_flag==7: \n",
    "    sig_n_z = tf.ones(D)\n",
    "    B_n = tf.diag(sig_n_z)\n",
    "if model_flag==8: \n",
    "    sig_o_z = tf.ones(N_tr)\n",
    "    B_o = tf.diag(sig_o_z)"
   ]
  },
  {
   "cell_type": "code",
   "execution_count": 9,
   "metadata": {},
   "outputs": [],
   "source": [
    "# distribution for latent\n",
    "z = MultivariateNormalTriL(loc=tf.zeros((K,N_tr)), scale_tril=tf.cholesky(K_w))\n",
    "z1 = tf.matmul(tf.transpose(z),tf.diag(tf.sqrt(l_z)))\n",
    "qz = Normal(loc=var(z_init_tr.T), scale=tf.nn.softplus(var(softplus_inv(np.ones((K,N_tr))*1e-2))))\n",
    "if kernel_flag == \"rbf\":\n",
    "    K_z1 = rbf(z1,lengthscale=l_z1,variance=sig_f_z)\n",
    "elif kernel_flag == \"linear\":    \n",
    "    K_z1 = tf.matmul(z1,tf.transpose(z1))\n",
    "elif kernel_flag == \"mixture\":\n",
    "    K_z1 = rbf(z1,lengthscale=l_z1,variance=sig_f_z)*coeff_rbf+tf.matmul(z1,tf.transpose(z1))*coeff_linear"
   ]
  },
  {
   "cell_type": "code",
   "execution_count": 10,
   "metadata": {},
   "outputs": [],
   "source": [
    "# distribution for firing rates \n",
    "if trial_flag==0:\n",
    "    # trial-average\n",
    "    if model_flag==1 or model_flag==7: \n",
    "        x_mfr = MultivariateNormalTriL(loc=tf.zeros((D,N_tr)), scale_tril=tf.cholesky(K_z1+B_o))\n",
    "        data_dict = {x_mfr: x_true_avg_train.T}\n",
    "    else: # no kron structure\n",
    "        x_mfr = MatrixNormal_Kron_fast_sample(loc=const(np.zeros([1, D*N_tr])), cov_C=K_z1, cov_D=tf.eye(D), \n",
    "                                      cov_A=B_o, cov_B=B_n)\n",
    "        data_dict = {x_mfr: x_true_avg_train.reshape(1,-1)}\n",
    "else:\n",
    "    # multi-trial\n",
    "    if model_flag==1 or model_flag==7: \n",
    "        x11, x21, x1t1, x2t1 = negative_ll_A(x_true_trial_train,K_z1,B_o,D,N_tr)\n",
    "        data_dict = {x11: x1t1, x21: x2t1}\n",
    "    else: # no kron structure\n",
    "        x11, x21, x1t1, x2t1 = negative_ll_sign_B2(x_true_trial_train,K_z1,B_o,B_n,D,N_tr)\n",
    "        data_dict = {x11: x1t1, x21: x2t1}"
   ]
  },
  {
   "cell_type": "code",
   "execution_count": 11,
   "metadata": {},
   "outputs": [
    {
     "name": "stderr",
     "output_type": "stream",
     "text": [
      "/Users/yzhao301/opt/anaconda3/envs/olfactory/lib/python3.6/site-packages/edward/util/random_variables.py:52: FutureWarning: Conversion of the second argument of issubdtype from `float` to `np.floating` is deprecated. In future, it will be treated as `np.float64 == np.dtype(float).type`.\n",
      "  not np.issubdtype(value.dtype, np.float) and \\\n"
     ]
    },
    {
     "name": "stdout",
     "output_type": "stream",
     "text": [
      "2000/2000 [100%] ██████████████████████████████ Elapsed: 3s | Loss: 1240.816\n"
     ]
    }
   ],
   "source": [
    "# do inference\n",
    "inference = ed.KLqp({z: qz}, data=data_dict)\n",
    "inference.initialize(n_print=n_print, n_iter=n_iter,n_samples=n_samples)\n",
    "tf.global_variables_initializer().run()\n",
    "sess = ed.get_session()\n",
    "for t in range(inference.n_iter):\n",
    "    info_dict = inference.update()\n",
    "    inference.print_progress(info_dict)"
   ]
  },
  {
   "cell_type": "code",
   "execution_count": 12,
   "metadata": {},
   "outputs": [],
   "source": [
    "# evaluate\n",
    "qz_tr_mean = qz.mean().eval().T # posterior mean of latent \n",
    "\n",
    "# hyperparameters for the latent kernel\n",
    "coeff_linear_est = coeff_linear.eval()\n",
    "coeff_rbf_est = coeff_rbf.eval()\n",
    "l_z_est = l_z.eval()\n",
    "l_z1_est = l_z1.eval()\n",
    "sig_f_z_est = sig_f_z.eval()\n",
    "sig_n_z_est = sig_n_z.eval()\n",
    "sig_o_z_est = sig_o_z.eval()\n",
    "\n",
    "# noise\n",
    "Boest = Bo.eval()\n",
    "l_B_oest = l_B_o.eval()\n",
    "B_oest = B_o.eval()\n",
    "Bnest = Bn.eval()\n",
    "l_B_nest = l_B_n.eval()\n",
    "B_nest = B_n.eval()\n",
    "B_nest1 = B_nest[neuron_va,:]\n",
    "B_nest1 = B_nest1[:,neuron_va]"
   ]
  },
  {
   "cell_type": "code",
   "execution_count": 13,
   "metadata": {},
   "outputs": [
    {
     "name": "stdout",
     "output_type": "stream",
     "text": [
      "(20, 20)\n",
      "1000/1000 [100%] ██████████████████████████████ Elapsed: 1s | Loss: 1022.480\n"
     ]
    }
   ],
   "source": [
    "# validate stage for co-smoothing\n",
    "\n",
    "# prior for the latent of the test odor\n",
    "sig_n_w_va = tf.nn.softplus(var(softplus_inv(np.ones(N_te)*1)))\n",
    "K_w_va = tf.diag(sig_n_w_va)\n",
    "\n",
    "# noise initialization for the test odor set, \n",
    "# hold the train set parameters fixed, \n",
    "# only learn the noise parameter for the test set\n",
    "if model_flag==2 or model_flag==7:\n",
    "    sig_o_z_va = tf.ones(N_te)\n",
    "else:\n",
    "    sig_o_z_va = tf.nn.softplus(var(softplus_inv(np.ones(N_te)*0.01)))\n",
    "sig_o_z_all = tf.concat([const(sig_o_z_est),sig_o_z_va],axis=0)\n",
    "\n",
    "Bo_all = tf.concat([const(Boest),var(np.ones((N_te,R)))],axis=0)\n",
    "if model_flag==5 or model_flag==6 or model_flag==8:\n",
    "    B_o_all = tf.matmul(Bo_all,tf.matmul(tf.diag(const(l_B_oest)),tf.transpose(Bo_all)))+tf.diag(sig_o_z_all)\n",
    "else:\n",
    "    B_o_all = tf.diag(sig_o_z_all)\n",
    "    \n",
    "print(B_o_all.shape) \n",
    "\n",
    "z_va = MultivariateNormalTriL(loc=tf.zeros((K,N_te)), scale_tril=tf.cholesky(K_w_va))\n",
    "qz_va = Normal(loc=var(z_init_va.T), scale=tf.nn.softplus(var(softplus_inv(np.ones((K,N_te))*1e-2))))\n",
    "z_all = tf.concat([const(qz_tr_mean.T),z_va],axis=1)\n",
    "z_all1 = tf.matmul(tf.transpose(z_all),tf.diag(tf.sqrt(const(l_z_est))))\n",
    "if kernel_flag == \"rbf\":\n",
    "    K_z_all1 = rbf(z_all1,lengthscale=const(l_z1_est),variance=const(sig_f_z_est))\n",
    "elif kernel_flag == 'linear':\n",
    "    K_z_all1 = tf.matmul(z_all1,tf.transpose(z_all1))\n",
    "elif kernel_flag == 'mixture':\n",
    "    K_z_all1 = rbf(z_all1,lengthscale=const(l_z1_est),variance=const(sig_f_z_est))*coeff_rbf_est+\\\n",
    "    tf.matmul(z_all1,tf.transpose(z_all1))*coeff_linear_est\n",
    "       \n",
    "if trial_flag==0:\n",
    "    if model_flag==1 or model_flag==7: \n",
    "        x_mfr = MultivariateNormalTriL(loc=tf.zeros((D_va,N_tr+N_te)), scale_tril=tf.cholesky(K_z_all1+B_o_all))\n",
    "        data_dict = {x_mfr: x_true_avg_va.T}\n",
    "    else: # no kron structure\n",
    "        x_mfr = MatrixNormal_Kron_fast_sample(loc=const(np.zeros([1, D_va*(N_tr+N_te)])), \\\n",
    "                                           cov_C=K_z_all1, cov_D=tf.eye(D_va), cov_A=B_o_all, cov_B=const(B_nest1))\n",
    "        data_dict = {x_mfr: x_true_avg_va.reshape(1,-1)}\n",
    "else:\n",
    "    if model_flag==1 or model_flag==7: \n",
    "        x11, x21, x1t1, x2t1 = negative_ll_A(x_true_trial_va,K_z_all1,B_o_all,D_va,N_tr+N_te)\n",
    "        data_dict = {x11: x1t1, x21: x2t1}\n",
    "    else: # no kron structure\n",
    "        x11, x21, x1t1, x2t1 = negative_ll_sign_B2(x_true_trial_va,K_z_all1,B_o_all,const(B_nest1),D_va,N_tr+N_te)\n",
    "        data_dict = {x11: x1t1, x21: x2t1}\n",
    "\n",
    "inference = ed.KLqp({z_va: qz_va}, data=data_dict)\n",
    "inference.initialize(n_print=n_print_test, n_iter=n_iter_test,n_samples=n_samples)\n",
    "tf.global_variables_initializer().run()\n",
    "sess = ed.get_session()\n",
    "for t in range(inference.n_iter):\n",
    "    info_dict = inference.update()\n",
    "    inference.print_progress(info_dict)  \n"
   ]
  },
  {
   "cell_type": "code",
   "execution_count": 14,
   "metadata": {},
   "outputs": [
    {
     "name": "stdout",
     "output_type": "stream",
     "text": [
      "(19, 19)\n",
      "(19, 1)\n"
     ]
    }
   ],
   "source": [
    "qz_te_mean = qz_va.mean().eval().T # posterior mean for the latent of the test odor\n",
    "sig_o_z_va_est = sig_o_z_va.eval()\n",
    "\n",
    "# evaluation of the kernel for the training odor set\n",
    "z_tr1 = np.dot(qz_tr_mean,np.diag(np.sqrt(l_z_est)))\n",
    "if kernel_flag=='rbf':\n",
    "    K_z1_train = rbf(const(z_tr1),lengthscale=const(l_z1_est),variance=const(sig_f_z_est)).eval()\n",
    "elif kernel_flag=='linear':\n",
    "    K_z1_train = np.dot(z_tr1, z_tr1.T)\n",
    "elif kernel_flag=='mixture':\n",
    "    k_train_rbf1 = rbf(const(z_tr1),lengthscale=const(l_z1_est),variance=const(sig_f_z_est)).eval()\n",
    "    k_train_linear1 = np.dot(z_tr1, z_tr1.T)\n",
    "    K_z1_train = k_train_rbf1*coeff_rbf_est+k_train_linear1*coeff_linear_est\n",
    "    \n",
    "print(K_z1_train.shape)\n",
    "\n",
    "# evaluation of the kernel for the test odor set\n",
    "z_te1 = np.dot(qz_te_mean, np.diag(np.sqrt(l_z_est)))\n",
    "if kernel_flag=='rbf':\n",
    "    K_z1_test = rbf(X=const(z_tr1),X2=const(z_te1),lengthscale=const(l_z1_est),variance=const(sig_f_z_est)).eval()\n",
    "elif kernel_flag=='linear':\n",
    "    K_z1_test = np.dot(z_tr1,z_te1.T)\n",
    "elif kernel_flag=='mixture':\n",
    "    k_test_rbf1 = rbf(X=const(z_tr1),X2=const(z_te1),lengthscale=const(l_z1_est),variance=const(sig_f_z_est)).eval()\n",
    "    k_test_linear1 = np.dot(z_tr1,z_te1.T)\n",
    "    K_z1_test = k_test_rbf1*coeff_rbf_est+k_test_linear1*coeff_linear_est\n",
    "    \n",
    "print(K_z1_test.shape)\n",
    "\n",
    "# predict mean firing rate\n",
    "f_tc = mvn_kron.solve_x(const(np.reshape(x_true_avg_train,(1,-1))), K_z1_train, tf.eye(D), \\\n",
    "                const(B_oest), 1/T*const(B_nest)).eval()\n",
    "x_true_avg_pred = np.dot(K_z1_test.T,np.reshape(f_tc,(N_tr,-1)))"
   ]
  },
  {
   "cell_type": "code",
   "execution_count": 15,
   "metadata": {},
   "outputs": [
    {
     "name": "stdout",
     "output_type": "stream",
     "text": [
      "(19, 2)\n",
      "0.15162832502700493\n"
     ]
    },
    {
     "name": "stderr",
     "output_type": "stream",
     "text": [
      "/Users/yzhao301/opt/anaconda3/envs/olfactory/lib/python3.6/site-packages/autograd/tracer.py:48: FutureWarning: `rcond` parameter will change to the default of machine precision times ``max(M, N)`` where M and N are the input matrix dimensions.\n",
      "To use the future default and silence this warning we advise to pass `rcond=None`, to keep using the old, explicitly pass `rcond=-1`.\n",
      "  return f_raw(*args, **kwargs)\n"
     ]
    },
    {
     "data": {
      "text/plain": [
       "Text(0,0.5,'latent 2')"
      ]
     },
     "execution_count": 15,
     "metadata": {},
     "output_type": "execute_result"
    },
    {
     "data": {
      "image/png": "[encoded data removed]",
      "text/plain": [
       "<Figure size 432x288 with 1 Axes>"
      ]
     },
     "metadata": {
      "needs_background": "light"
     },
     "output_type": "display_data"
    },
    {
     "data": {
      "image/png": "[encoded data removed]",
      "text/plain": [
       "<Figure size 432x288 with 1 Axes>"
      ]
     },
     "metadata": {
      "needs_background": "light"
     },
     "output_type": "display_data"
    },
    {
     "data": {
      "image/png": "[encoded data removed]",
      "text/plain": [
       "<Figure size 432x288 with 1 Axes>"
      ]
     },
     "metadata": {
      "needs_background": "light"
     },
     "output_type": "display_data"
    }
   ],
   "source": [
    "z_true_tr = z_true[odor_tr,:]\n",
    "print(z_true_tr.shape)\n",
    "zz = align_z(np.dot(qz_tr_mean, np.diag(np.sqrt(l_z_est))),z_true_tr)\n",
    "plt.figure()\n",
    "plt.plot(z_true_tr[:,0],'r')\n",
    "plt.plot(zz[:,0],'b')\n",
    "plt.title('latent 1')\n",
    "plt.figure()\n",
    "plt.plot(z_true_tr[:,1],'r')\n",
    "plt.plot(zz[:,1],'b')\n",
    "plt.title('latent 2')\n",
    "\n",
    "# plot latent in 2d\n",
    "z_est = np.zeros((N,K))\n",
    "z_est[odor_tr,:] = qz_tr_mean\n",
    "z_est[odor_te,:] = qz_te_mean\n",
    "z_est = align_z(z_est,z_true)\n",
    "print(rsquared(z_est.flatten(),z_true.flatten()))\n",
    "\n",
    "dz = np.array(range(z_true.shape[0]))\n",
    "colors = gen_color(dz)\n",
    "plt.figure()\n",
    "for ii in range(z_true.shape[0]):\n",
    "    plt.plot(z_true[ii,0], z_true[ii,1], 'o', color=colors[ii])\n",
    "    plt.plot(z_est[ii,0], z_est[ii,1], '^', color=colors[ii])\n",
    "plt.xlabel('latent 1')\n",
    "plt.ylabel('latent 2')\n"
   ]
  },
  {
   "cell_type": "code",
   "execution_count": 16,
   "metadata": {},
   "outputs": [
    {
     "name": "stdout",
     "output_type": "stream",
     "text": [
      "0.9730523018876709\n"
     ]
    },
    {
     "data": {
      "text/plain": [
       "[<matplotlib.lines.Line2D at 0x7f9ca9f7a5c0>]"
      ]
     },
     "execution_count": 16,
     "metadata": {},
     "output_type": "execute_result"
    },
    {
     "data": {
      "image/png": "[encoded data removed]",
      "text/plain": [
       "<Figure size 432x288 with 1 Axes>"
      ]
     },
     "metadata": {
      "needs_background": "light"
     },
     "output_type": "display_data"
    }
   ],
   "source": [
    "x_test_r2 = rsquared(x_true_avg_pred.flatten(),x_true_avg_test.flatten())\n",
    "print(x_test_r2)\n",
    "\n",
    "plt.figure()\n",
    "plt.plot(x_true_avg_test.flatten(),'r')\n",
    "plt.plot(x_true_avg_pred.flatten(),'g')\n"
   ]
  },
  {
   "cell_type": "code",
   "execution_count": 17,
   "metadata": {},
   "outputs": [
    {
     "name": "stdout",
     "output_type": "stream",
     "text": [
      "0.9860339641414135\n"
     ]
    },
    {
     "data": {
      "text/plain": [
       "[<matplotlib.lines.Line2D at 0x7f9caa117d68>]"
      ]
     },
     "execution_count": 17,
     "metadata": {},
     "output_type": "execute_result"
    },
    {
     "data": {
      "image/png": "[encoded data removed]",
      "text/plain": [
       "<Figure size 432x288 with 1 Axes>"
      ]
     },
     "metadata": {
      "needs_background": "light"
     },
     "output_type": "display_data"
    }
   ],
   "source": [
    "x_test_te_r2 = rsquared(x_true_avg_pred[:,neuron_te].flatten(),x_true_avg_test[:,neuron_te].flatten())\n",
    "print(x_test_te_r2)\n",
    "\n",
    "plt.figure()\n",
    "plt.plot(x_true_avg_test[:,neuron_te].flatten(),'r')\n",
    "plt.plot(x_true_avg_pred[:,neuron_te].flatten(),'g')\n"
   ]
  },
  {
   "cell_type": "code",
   "execution_count": null,
   "metadata": {},
   "outputs": [],
   "source": []
  },
  {
   "cell_type": "code",
   "execution_count": null,
   "metadata": {},
   "outputs": [],
   "source": []
  }
 ],
 "metadata": {
  "kernelspec": {
   "display_name": "Python 3",
   "language": "python",
   "name": "python3"
  },
  "language_info": {
   "codemirror_mode": {
    "name": "ipython",
    "version": 3
   },
   "file_extension": ".py",
   "mimetype": "text/x-python",
   "name": "python",
   "nbconvert_exporter": "python",
   "pygments_lexer": "ipython3",
   "version": "3.6.13"
  }
 },
 "nbformat": 4,
 "nbformat_minor": 2
}
